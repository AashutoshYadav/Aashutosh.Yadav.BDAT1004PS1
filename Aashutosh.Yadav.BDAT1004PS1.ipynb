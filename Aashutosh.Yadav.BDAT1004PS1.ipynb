{
 "cells": [
  {
   "cell_type": "markdown",
   "id": "5a60e65f",
   "metadata": {},
   "source": [
    "# Q1"
   ]
  },
  {
   "cell_type": "markdown",
   "id": "5ca891b0",
   "metadata": {},
   "source": [
    "5 - Integer\n",
    "\n",
    "5.0 - Float\n",
    "\n",
    "5>1 - Boolean\n",
    "\n",
    "'5' - Character\n",
    "\n",
    "5*2 - Integer\n",
    "\n",
    "'5' * 2 - String\n",
    "\n",
    "'5' + '2' - String\n",
    "\n",
    "5/2 - Float\n",
    "\n",
    "5%2 - Integer\n",
    "\n",
    "{5, 2, 1} - Set\n",
    "\n",
    "5 == 3 - Boolean\n",
    "\n",
    "Pi (the number) - Double"
   ]
  },
  {
   "cell_type": "markdown",
   "id": "30e2cdcc",
   "metadata": {},
   "source": [
    "# Q2."
   ]
  },
  {
   "cell_type": "markdown",
   "id": "3182b03b",
   "metadata": {},
   "source": [
    "## a\n"
   ]
  },
  {
   "cell_type": "code",
   "execution_count": 7,
   "id": "4189f175",
   "metadata": {},
   "outputs": [
    {
     "name": "stdout",
     "output_type": "stream",
     "text": [
      "34\n"
     ]
    }
   ],
   "source": [
    "Letter='Supercalifragilisticexpialidocious'\n",
    "print(len(Letter))"
   ]
  },
  {
   "cell_type": "markdown",
   "id": "cd17a225",
   "metadata": {},
   "source": [
    "## b. Does 'Supercalifragilisticexpialidocious' contain 'ice' as a substring"
   ]
  },
  {
   "cell_type": "code",
   "execution_count": 10,
   "id": "907b681c",
   "metadata": {},
   "outputs": [
    {
     "name": "stdout",
     "output_type": "stream",
     "text": [
      "Found\n"
     ]
    }
   ],
   "source": [
    "Letter = \"Supercalifragilisticexpialidocious\"\n",
    "FindLetter  = \"ice\"\n",
    "\n",
    "if FindLetter in Letter:\n",
    "    print(\"Found\")\n",
    "else:\n",
    "    print (\"Not Found\")"
   ]
  },
  {
   "cell_type": "markdown",
   "id": "0e83bf3f",
   "metadata": {},
   "source": [
    "## c. "
   ]
  },
  {
   "cell_type": "code",
   "execution_count": 11,
   "id": "3b2447a6",
   "metadata": {},
   "outputs": [
    {
     "name": "stdout",
     "output_type": "stream",
     "text": [
      "Supercalifragilisticexpialidocious and Bababadalgharaghtakamminarronnkonn are longest\n"
     ]
    }
   ],
   "source": [
    "Letter1= \"Supercalifragilisticexpialidocious\"\n",
    "Letter2 = \"Honorificabilitudinitatibus\"\n",
    "Letter3 = \"Bababadalgharaghtakamminarronnkonn\"\n",
    "   \n",
    "x = len(Letter1)\n",
    "y = len(Letter2)\n",
    "z = len(Letter3)\n",
    "    \n",
    "if(x>y) and (x>z):\n",
    "    print(Letter1, 'is the longest')\n",
    "elif (y>x) and (y>z):\n",
    "    print(Letter2, 'is the longest')\n",
    "elif (z>x) and (z>y):\n",
    "    print(Letter3, 'is the longest')\n",
    "elif (x==y):\n",
    "    print(Letter1, 'and', Letter2, 'are longest')\n",
    "elif (x==z):\n",
    "    print(Letter1, 'and', Letter3, 'are longest')\n",
    "elif (y==z):\n",
    "    print(Letter2, 'and', Letter3, 'are longest')\n",
    "else:\n",
    "    print(\"All are equal and longest\")\n",
    "    \n",
    "    \n",
    "    "
   ]
  },
  {
   "cell_type": "markdown",
   "id": "97426b08",
   "metadata": {},
   "source": [
    "## d.\n"
   ]
  },
  {
   "cell_type": "code",
   "execution_count": 12,
   "id": "5c60ba64",
   "metadata": {},
   "outputs": [
    {
     "name": "stdout",
     "output_type": "stream",
     "text": [
      "Bartok First amoung all \n",
      "Buxtehude Last amoung all\n"
     ]
    }
   ],
   "source": [
    "word=['Berlioz', 'Borodin', 'Brian', 'Bartok', 'Bellini', 'Buxtehude', 'Bernstein']\n",
    "word.sort()\n",
    "print(word[0], 'First amoung all ')\n",
    "print(word[6], 'Last amoung all')\n",
    "      \n",
    "      "
   ]
  },
  {
   "cell_type": "markdown",
   "id": "78977568",
   "metadata": {},
   "source": [
    "# Q3."
   ]
  },
  {
   "cell_type": "code",
   "execution_count": 13,
   "id": "c6a0e2a1",
   "metadata": {},
   "outputs": [
    {
     "name": "stdout",
     "output_type": "stream",
     "text": [
      "*****Find the area of traiangle*****\n",
      "Enter the side 1:2\n",
      "Enter the side 2:2\n",
      "Enter the side 3:2\n",
      "The sider are first 2.0 second 2.0 third 2.0\n",
      "The area is :-----------1.7320508075688772\n"
     ]
    }
   ],
   "source": [
    "print('*****Find the area of traiangle*****')\n",
    "A =  float(input(\"Enter the side 1:\"))\n",
    "B = float(input(\"Enter the side 2:\"))\n",
    "C = float(input(\"Enter the side 3:\"))\n",
    "print(f\"The sider are first {A} second {B} third {C}\")\n",
    "s = (A + B + C) / 2\n",
    "Area = (s*(s-A)*(s-B)*(s-C)) ** 0.5\n",
    "print(f\"The area is :-----------{Area}\")\n"
   ]
  },
  {
   "cell_type": "markdown",
   "id": "1c77055b",
   "metadata": {},
   "source": [
    "# Q4. "
   ]
  },
  {
   "cell_type": "code",
   "execution_count": 15,
   "id": "14dbb880",
   "metadata": {},
   "outputs": [
    {
     "name": "stdout",
     "output_type": "stream",
     "text": [
      "Enter the size of the First List ::5\n",
      "Enter the Element of First  List ::\n",
      "1\n",
      "2\n",
      "3\n",
      "4\n",
      "5\n",
      "Even lists: [2, 4]\n",
      "Odd lists: [1, 3, 5]\n"
     ]
    }
   ],
   "source": [
    "List=list()\n",
    "LIST_SIZE=int(input(\"Enter the size of the First List ::\"))\n",
    "print(\"Enter the Element of First  List ::\")\n",
    "\n",
    "k=0\n",
    "\n",
    "for i in range(int(LIST_SIZE)):\n",
    "   k=int(input(\"\"))\n",
    "   List.append(k)\n",
    "EVEN_NUMBER = [] \n",
    "ODD_NUMBER = [] \n",
    "for i in List:\n",
    "    if(i % 2 == 0): \n",
    "        EVEN_NUMBER.append(i)\n",
    "    else: \n",
    "         ODD_NUMBER.append(i) \n",
    "print(\"Even lists:\", EVEN_NUMBER) \n",
    "print(\"Odd lists:\", ODD_NUMBER) \n",
    "    "
   ]
  },
  {
   "cell_type": "markdown",
   "id": "7d003314",
   "metadata": {},
   "source": [
    "# Q5\n"
   ]
  },
  {
   "cell_type": "code",
   "execution_count": 16,
   "id": "22a336c3",
   "metadata": {},
   "outputs": [
    {
     "name": "stdout",
     "output_type": "stream",
     "text": [
      "Enter the value of x1:1\n",
      "Enter the value of y1:1\n",
      "Enter the value of x2:1\n",
      "Enter the value of y2:1\n",
      "Enter the value of point x:1.5\n",
      "Enter the value of point y:1.5\n",
      "No its not on the line \n"
     ]
    }
   ],
   "source": [
    "def Coordinates(x1, y1, x2,\n",
    "              y2, x, y) :\n",
    "    if (x > x1 and x < x2 and\n",
    "        y > y1 and y < y2) :\n",
    "        return True\n",
    "    else :\n",
    "        return False\n",
    " \n",
    "if __name__ == \"__main__\" :\n",
    "    \n",
    "    x1 = float(input(\"Enter the value of x1:\"))\n",
    "    y1=  float(input(\"Enter the value of y1:\"))\n",
    "    x2=  float(input(\"Enter the value of x2:\"))\n",
    "    y2=  float(input(\"Enter the value of y2:\"))   \n",
    "    \n",
    "    \n",
    "    x = float(input(\"Enter the value of point x:\"))\n",
    "    y = float(input(\"Enter the value of point y:\"))\n",
    " \n",
    "    if Coordinates(x1, y1, x2,\n",
    "                 y2, x, y) :\n",
    "        print(\"Yes its on the line\")\n",
    "    else :\n",
    "        print(\"No its not on the line \")"
   ]
  },
  {
   "cell_type": "markdown",
   "id": "81072176",
   "metadata": {},
   "source": [
    "# Q6 "
   ]
  },
  {
   "cell_type": "code",
   "execution_count": 17,
   "id": "53da6576",
   "metadata": {
    "scrolled": true
   },
   "outputs": [
    {
     "name": "stdout",
     "output_type": "stream",
     "text": [
      "Write the msg to get converted: hello\n",
      "ellohay\n"
     ]
    }
   ],
   "source": [
    "Code = input(\"Write the msg to get converted: \")\n",
    "New_Code = Code.lower().split(\" \")\n",
    "Vowels = ['a', 'e', 'i', 'o', 'u']\n",
    "Code = []\n",
    "for word in New_Code:\n",
    "    if word[0] in 'aeiou': #case where vowel is first\n",
    "        Code.append(word + 'way')\n",
    "    else:\n",
    "        for letter in word:\n",
    "            if letter in 'aeiou':\n",
    "                Code.append(word[word.index(letter):] + word[:word.index(letter)] +'ay')\n",
    "                break\n",
    "print(\"New code is \".join(Code))"
   ]
  },
  {
   "cell_type": "markdown",
   "id": "38e0f946",
   "metadata": {},
   "source": [
    "# Q7"
   ]
  },
  {
   "cell_type": "code",
   "execution_count": 18,
   "id": "1e995893",
   "metadata": {},
   "outputs": [
    {
     "name": "stdout",
     "output_type": "stream",
     "text": [
      "The Given Data is :- ['AB', 'AB', 'B', 'O', 'A', 'A', 'AB', 'O', 'AB', 'A', 'O', 'O', 'A', 'A', 'A', 'O', 'O', 'O', 'AB', 'O', 'A', 'A', 'A', 'A', 'A', 'AB', 'AB', 'A', 'AB', 'O', 'AB', 'O', 'A', 'O', 'O', 'O', 'AB', 'O', 'AB', 'AB', 'AB', 'A', 'A', 'O']\n",
      "Number of peope with A blood group:- 15\n",
      "Number of peope with B blood group:- 1\n",
      "Number of peope with AB blood group:- 13\n",
      "Number of peope with O blood group:- 15\n",
      "Number of peope with OO blood group:- 0\n"
     ]
    }
   ],
   "source": [
    "Open= open(\"set1.txt\", \"r\")\n",
    "BloodTypeList=Open.readlines()\n",
    "for line in BloodTypeList:\n",
    "        Data = line.split()\n",
    "        print(\"The Given Data is :-\",Data)\n",
    "GroopA = Data.count('A')\n",
    "GroopB = Data.count('B')\n",
    "GroopAB = Data.count('AB')\n",
    "GroopO = Data.count('O')\n",
    "GroopOO = Data.count('OO')\n",
    "print(\"Number of peope with A blood group:-\",GroopA)\n",
    "print(\"Number of peope with B blood group:-\",GroopB)\n",
    "print(\"Number of peope with AB blood group:-\",GroopAB)\n",
    "print(\"Number of peope with O blood group:-\",GroopO)\n",
    "print(\"Number of peope with OO blood group:-\",GroopOO)"
   ]
  },
  {
   "cell_type": "markdown",
   "id": "f67c3c9a",
   "metadata": {},
   "source": [
    "# Q8"
   ]
  },
  {
   "cell_type": "code",
   "execution_count": 24,
   "id": "769750a6",
   "metadata": {},
   "outputs": [
    {
     "name": "stdout",
     "output_type": "stream",
     "text": [
      "122.96544\n",
      "1.241401\n"
     ]
    }
   ],
   "source": [
    "def curconv(Currency,Amount):\n",
    "    file = open(\"set2.txt\", \"r\")\n",
    "    fileRead = file.readlines()\n",
    "    file.close()\n",
    "    for file in fileRead :\n",
    "        group = file.split()\n",
    "        if Currency == group[0]:\n",
    "            Rate = float(group[1])\n",
    "            Converted = Amount * Rate\n",
    "        \n",
    "    print(Converted)   \n",
    "        \n",
    "curconv('EUR',100)\n",
    "curconv('JPY',100)"
   ]
  },
  {
   "cell_type": "markdown",
   "id": "72666bbc",
   "metadata": {},
   "source": [
    "# Q9"
   ]
  },
  {
   "cell_type": "markdown",
   "id": "a6200eaa",
   "metadata": {},
   "source": [
    "1- TypeError\n",
    "\n",
    "2- IndexError\n",
    "\n",
    "3- ValueError\n",
    "\n",
    "4- NameError\n",
    "\n",
    "5- FileNotFoundError"
   ]
  },
  {
   "cell_type": "markdown",
   "id": "e4a5448d",
   "metadata": {},
   "source": [
    "# Q10. "
   ]
  },
  {
   "cell_type": "code",
   "execution_count": 27,
   "id": "2c0281a6",
   "metadata": {},
   "outputs": [
    {
     "name": "stdout",
     "output_type": "stream",
     "text": [
      "[1, 0, 1, 2, 4, 0, 0, 0, 1, 0, 0, 1, 0, 2, 2, 2, 0, 1, 1, 1, 0, 1, 1, 0, 0, 0]\n",
      "[1, 0, 0, 0, 1, 0, 0, 0, 0, 0, 0, 1, 0, 0, 0, 2, 0, 0, 0, 0, 0, 0, 0, 0, 0, 0]\n"
     ]
    }
   ],
   "source": [
    "Code= input(\"Enter the msg you want to convert\")\n",
    "\n",
    "\n",
    "x= ['a','b','c','d','e','f','g','h','i','j','k','l','m','n','o','p','q','r','s','t','u','v','w','x','y','z']\n",
    "  \n",
    "for i in x:\n",
    "    print(Code.lower().count(i))\n",
    " "
   ]
  }
 ],
 "metadata": {
  "kernelspec": {
   "display_name": "Python 3 (ipykernel)",
   "language": "python",
   "name": "python3"
  },
  "language_info": {
   "codemirror_mode": {
    "name": "ipython",
    "version": 3
   },
   "file_extension": ".py",
   "mimetype": "text/x-python",
   "name": "python",
   "nbconvert_exporter": "python",
   "pygments_lexer": "ipython3",
   "version": "3.9.12"
  }
 },
 "nbformat": 4,
 "nbformat_minor": 5
}
